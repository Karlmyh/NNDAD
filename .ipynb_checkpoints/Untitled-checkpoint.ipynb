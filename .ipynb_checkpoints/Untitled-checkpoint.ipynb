{
 "cells": [
  {
   "cell_type": "code",
   "execution_count": 7,
   "id": "35c76c3c",
   "metadata": {},
   "outputs": [
    {
     "ename": "ModuleNotFoundError",
     "evalue": "No module named 'numba'",
     "output_type": "error",
     "traceback": [
      "\u001b[0;31m---------------------------------------------------------------------------\u001b[0m",
      "\u001b[0;31mModuleNotFoundError\u001b[0m                       Traceback (most recent call last)",
      "Input \u001b[0;32mIn [7]\u001b[0m, in \u001b[0;36m<cell line: 18>\u001b[0;34m()\u001b[0m\n\u001b[1;32m     16\u001b[0m \u001b[38;5;28;01mimport\u001b[39;00m \u001b[38;5;21;01mglob\u001b[39;00m\n\u001b[1;32m     17\u001b[0m \u001b[38;5;28;01mfrom\u001b[39;00m \u001b[38;5;21;01msklearn\u001b[39;00m\u001b[38;5;21;01m.\u001b[39;00m\u001b[38;5;21;01mpreprocessing\u001b[39;00m \u001b[38;5;28;01mimport\u001b[39;00m MinMaxScaler\n\u001b[0;32m---> 18\u001b[0m \u001b[38;5;28;01mfrom\u001b[39;00m \u001b[38;5;21;01mNNDAD\u001b[39;00m \u001b[38;5;28;01mimport\u001b[39;00m NNDAD \n\u001b[1;32m     19\u001b[0m \u001b[38;5;28;01mfrom\u001b[39;00m \u001b[38;5;21;01msklearn\u001b[39;00m\u001b[38;5;21;01m.\u001b[39;00m\u001b[38;5;21;01mmetrics\u001b[39;00m \u001b[38;5;28;01mimport\u001b[39;00m roc_auc_score\n\u001b[1;32m     20\u001b[0m \u001b[38;5;28;01mfrom\u001b[39;00m \u001b[38;5;21;01msklearn\u001b[39;00m\u001b[38;5;21;01m.\u001b[39;00m\u001b[38;5;21;01mmodel_selection\u001b[39;00m \u001b[38;5;28;01mimport\u001b[39;00m train_test_split\n",
      "File \u001b[0;32m~/NNDAD/NNDAD/__init__.py:1\u001b[0m, in \u001b[0;36m<module>\u001b[0;34m\u001b[0m\n\u001b[0;32m----> 1\u001b[0m \u001b[38;5;28;01mfrom\u001b[39;00m \u001b[38;5;21;01m.\u001b[39;00m\u001b[38;5;21;01m_NNDAD\u001b[39;00m \u001b[38;5;28;01mimport\u001b[39;00m NNDAD\n\u001b[1;32m      2\u001b[0m \u001b[38;5;28;01mfrom\u001b[39;00m \u001b[38;5;21;01m.\u001b[39;00m\u001b[38;5;21;01m_BNNDAD\u001b[39;00m \u001b[38;5;28;01mimport\u001b[39;00m BNNDAD\n\u001b[1;32m      4\u001b[0m __all__ \u001b[38;5;241m=\u001b[39m [\u001b[38;5;124m\"\u001b[39m\u001b[38;5;124mNNDAD\u001b[39m\u001b[38;5;124m\"\u001b[39m, \u001b[38;5;124m\"\u001b[39m\u001b[38;5;124mBNNDAD\u001b[39m\u001b[38;5;124m\"\u001b[39m]\n",
      "File \u001b[0;32m~/NNDAD/NNDAD/_NNDAD.py:10\u001b[0m, in \u001b[0;36m<module>\u001b[0;34m\u001b[0m\n\u001b[1;32m      8\u001b[0m \u001b[38;5;28;01mfrom\u001b[39;00m \u001b[38;5;21;01msklearn\u001b[39;00m\u001b[38;5;21;01m.\u001b[39;00m\u001b[38;5;21;01mneighbors\u001b[39;00m \u001b[38;5;28;01mimport\u001b[39;00m KDTree\n\u001b[1;32m      9\u001b[0m \u001b[38;5;28;01mfrom\u001b[39;00m \u001b[38;5;21;01mtime\u001b[39;00m \u001b[38;5;28;01mimport\u001b[39;00m time\n\u001b[0;32m---> 10\u001b[0m \u001b[38;5;28;01mfrom\u001b[39;00m \u001b[38;5;21;01mnumba\u001b[39;00m \u001b[38;5;28;01mimport\u001b[39;00m njit\n\u001b[1;32m     15\u001b[0m \u001b[38;5;129m@njit\u001b[39m\n\u001b[1;32m     16\u001b[0m \u001b[38;5;28;01mdef\u001b[39;00m \u001b[38;5;21mcompute_weights\u001b[39m(beta):\n\u001b[1;32m     17\u001b[0m     potential_neighbors \u001b[38;5;241m=\u001b[39m \u001b[38;5;28mlen\u001b[39m(beta)\n",
      "\u001b[0;31mModuleNotFoundError\u001b[0m: No module named 'numba'"
     ]
    }
   ],
   "source": [
    "from IPython.core.interactiveshell import InteractiveShell\n",
    "InteractiveShell.ast_node_interactivity = \"all\"\n",
    "\n",
    "import os\n",
    "import matplotlib.ticker as mtick\n",
    "import numpy as np\n",
    "from time import time\n",
    "import math\n",
    "from matplotlib import patches\n",
    "import matplotlib.pyplot as plt\n",
    "import seaborn as sns\n",
    "import pandas as pd\n",
    "from mpl_toolkits.mplot3d import Axes3D\n",
    "from matplotlib import cm\n",
    "from matplotlib.ticker import LinearLocator, FormatStrFormatter\n",
    "import glob\n",
    "from sklearn.preprocessing import MinMaxScaler\n",
    "from NNDAD import NNDAD \n",
    "from sklearn.metrics import roc_auc_score\n",
    "from sklearn.model_selection import train_test_split\n",
    "from sklearn.neighbors import KDTree\n",
    "from distribution import TestDistribution\n",
    "from sklearn.metrics import f1_score\n",
    "import mat73\n",
    "from scipy.io import loadmat"
   ]
  },
  {
   "cell_type": "code",
   "execution_count": 6,
   "id": "dc241f6a",
   "metadata": {},
   "outputs": [
    {
     "ename": "NameError",
     "evalue": "name 'TestDistribution' is not defined",
     "output_type": "error",
     "traceback": [
      "\u001b[0;31m---------------------------------------------------------------------------\u001b[0m",
      "\u001b[0;31mNameError\u001b[0m                                 Traceback (most recent call last)",
      "Input \u001b[0;32mIn [6]\u001b[0m, in \u001b[0;36m<cell line: 2>\u001b[0;34m()\u001b[0m\n\u001b[1;32m      1\u001b[0m np\u001b[38;5;241m.\u001b[39mrandom\u001b[38;5;241m.\u001b[39mseed(\u001b[38;5;241m1\u001b[39m)  \n\u001b[0;32m----> 2\u001b[0m distribution \u001b[38;5;241m=\u001b[39m \u001b[43mTestDistribution\u001b[49m(index \u001b[38;5;241m=\u001b[39m \u001b[38;5;241m4\u001b[39m, dim \u001b[38;5;241m=\u001b[39m \u001b[38;5;241m1\u001b[39m)\u001b[38;5;241m.\u001b[39mreturnDistribution()\n\u001b[1;32m      4\u001b[0m n \u001b[38;5;241m=\u001b[39m \u001b[38;5;241m1000\u001b[39m\n\u001b[1;32m      5\u001b[0m X \u001b[38;5;241m=\u001b[39m distribution\u001b[38;5;241m.\u001b[39msampling(n)\n",
      "\u001b[0;31mNameError\u001b[0m: name 'TestDistribution' is not defined"
     ]
    }
   ],
   "source": [
    "np.random.seed(1)  \n",
    "distribution = TestDistribution(index = 4, dim = 1).returnDistribution()\n",
    "\n",
    "n = 1000\n",
    "X = distribution.sampling(n)\n",
    "X_test = distribution.sampling(  n)\n",
    "\n",
    "\n",
    "w1_vec = []\n",
    "w2_vec = []\n",
    "d1_vec = []\n",
    "d2_vec = []\n",
    "\n",
    "lamda_vec = [i for i in np.logspace(-1, 2, 20)]\n",
    "for lamda in lamda_vec:\n",
    "    model = NNDAD( lamda_list = [lamda]).fit(X)\n",
    "    \n",
    "    \n",
    "    weights = model.weights\n",
    "    distances = model.mean_k_distance_train\n",
    "    \n",
    "    w1_vec.append(np.linalg.norm(weights) )\n",
    "    d1_vec.append((distances * weights).sum())\n",
    "\n",
    "    k = (weights > 0).sum()\n",
    "\n",
    "    w2_vec.append(1 / k**0.5 * np.log(n)**0.5)\n",
    "    d2_vec.append((distances[:k] / k).sum())\n",
    "\n",
    "\n",
    "\n",
    "\n",
    "\n"
   ]
  },
  {
   "cell_type": "code",
   "execution_count": 5,
   "id": "da8930d4",
   "metadata": {},
   "outputs": [
    {
     "ename": "NameError",
     "evalue": "name 'w1_vec' is not defined",
     "output_type": "error",
     "traceback": [
      "\u001b[0;31m---------------------------------------------------------------------------\u001b[0m",
      "\u001b[0;31mNameError\u001b[0m                                 Traceback (most recent call last)",
      "Input \u001b[0;32mIn [5]\u001b[0m, in \u001b[0;36m<cell line: 1>\u001b[0;34m()\u001b[0m\n\u001b[0;32m----> 1\u001b[0m plt\u001b[38;5;241m.\u001b[39mplot(\u001b[43mw1_vec\u001b[49m, label \u001b[38;5;241m=\u001b[39m \u001b[38;5;124mr\u001b[39m\u001b[38;5;124m\"\u001b[39m\u001b[38;5;124m$\u001b[39m\u001b[38;5;124m\\\u001b[39m\u001b[38;5;124m|w\u001b[39m\u001b[38;5;124m\\\u001b[39m\u001b[38;5;124m|_2$\u001b[39m\u001b[38;5;124m\"\u001b[39m)\n\u001b[1;32m      2\u001b[0m plt\u001b[38;5;241m.\u001b[39mplot(d1_vec, label \u001b[38;5;241m=\u001b[39m \u001b[38;5;124m\"\u001b[39m\u001b[38;5;124m$\u001b[39m\u001b[38;5;130;01m\\f\u001b[39;00m\u001b[38;5;124mrac\u001b[39m\u001b[38;5;132;01m{1}\u001b[39;00m\u001b[38;5;132;01m{k}\u001b[39;00m\u001b[38;5;124m\\\u001b[39m\u001b[38;5;124msum_\u001b[39m\u001b[38;5;124m{\u001b[39m\u001b[38;5;124mi=1}^\u001b[39m\u001b[38;5;132;01m{k}\u001b[39;00m\u001b[38;5;124mR_\u001b[39m\u001b[38;5;124m{\u001b[39m\u001b[38;5;124m(i)}$\u001b[39m\u001b[38;5;124m\"\u001b[39m)\n\u001b[1;32m      3\u001b[0m plt\u001b[38;5;241m.\u001b[39mlegend()\n",
      "\u001b[0;31mNameError\u001b[0m: name 'w1_vec' is not defined"
     ]
    }
   ],
   "source": [
    "plt.plot(w1_vec, label = r\"$\\|w\\|_2$\")\n",
    "plt.plot(d1_vec, label = \"$\\frac{1}{k}\\sum_{i=1}^{k}R_{(i)}$\")\n",
    "plt.legend()"
   ]
  },
  {
   "cell_type": "code",
   "execution_count": 19,
   "id": "e20ad97e",
   "metadata": {},
   "outputs": [
    {
     "data": {
      "text/plain": [
       "[<matplotlib.lines.Line2D at 0x7ff2178442d0>]"
      ]
     },
     "execution_count": 19,
     "metadata": {},
     "output_type": "execute_result"
    },
    {
     "data": {
      "text/plain": [
       "[<matplotlib.lines.Line2D at 0x7ff217844590>]"
      ]
     },
     "execution_count": 19,
     "metadata": {},
     "output_type": "execute_result"
    },
    {
     "data": {
      "text/plain": [
       "[<matplotlib.lines.Line2D at 0x7ff2178449d0>]"
      ]
     },
     "execution_count": 19,
     "metadata": {},
     "output_type": "execute_result"
    },
    {
     "data": {
      "image/png": "[encoded data removed]",
      "text/plain": [
       "<Figure size 432x288 with 1 Axes>"
      ]
     },
     "metadata": {
      "needs_background": "light"
     },
     "output_type": "display_data"
    }
   ],
   "source": [
    "\n",
    "plt.plot([1 / ks**2 for ks in w1_vec], w1_vec)\n",
    "plt.plot([1 / ks**2 for ks in w1_vec], d1_vec)\n",
    "plt.plot([1 / ks**2 for ks in w1_vec], [w1_vec[i] + d1_vec[i] for i in range(len(w1_vec))])"
   ]
  },
  {
   "cell_type": "code",
   "execution_count": 17,
   "id": "5945d8cd",
   "metadata": {},
   "outputs": [
    {
     "data": {
      "text/plain": [
       "[<matplotlib.lines.Line2D at 0x7ff21793d610>]"
      ]
     },
     "execution_count": 17,
     "metadata": {},
     "output_type": "execute_result"
    },
    {
     "data": {
      "image/png": "[encoded data removed]",
      "text/plain": [
       "<Figure size 432x288 with 1 Axes>"
      ]
     },
     "metadata": {
      "needs_background": "light"
     },
     "output_type": "display_data"
    }
   ],
   "source": [
    "plt.plot(lamda_vec, [1 / ks**2 for ks in w1_vec])\n"
   ]
  },
  {
   "cell_type": "code",
   "execution_count": null,
   "id": "e3d877f7",
   "metadata": {},
   "outputs": [],
   "source": []
  }
 ],
 "metadata": {
  "kernelspec": {
   "display_name": "Python 3",
   "language": "python",
   "name": "python3"
  },
  "language_info": {
   "codemirror_mode": {
    "name": "ipython",
    "version": 3
   },
   "file_extension": ".py",
   "mimetype": "text/x-python",
   "name": "python",
   "nbconvert_exporter": "python",
   "pygments_lexer": "ipython3",
   "version": "3.9.13"
  }
 },
 "nbformat": 4,
 "nbformat_minor": 5
}
